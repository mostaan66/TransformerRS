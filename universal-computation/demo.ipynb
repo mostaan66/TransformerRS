{
 "cells": [
  {
   "cell_type": "markdown",
   "metadata": {},
   "source": [
    "# Pretrained Transformers as Universal Computation Engines Demo\n",
    "\n",
    "This is a demo notebook illustrating creating a Frozen Pretrained Transformer (FPT) and training on the Bit XOR task, which converges within a couple minutes.\n",
    "\n",
    "arXiv: https://arxiv.org/pdf/2103.05247.pdf\n",
    "\n",
    "Github: https://github.com/kzl/universal-computation"
   ]
  },
  {
   "cell_type": "code",
   "execution_count": 1,
   "metadata": {},
   "outputs": [],
   "source": [
    "import matplotlib.pyplot as plt\n",
    "import numpy as np\n",
    "import torch\n",
    "import torch.nn as nn\n",
    "\n",
    "from transformers.models.gpt2.modeling_gpt2 import GPT2Model"
   ]
  },
  {
   "cell_type": "markdown",
   "metadata": {},
   "source": [
    "## Creating the dataset\n",
    "\n",
    "For this demo, we'll look at calculating the elementwise XOR between two randomly generated bitstrings.\n",
    "If you want to play more with the model, feel free to try larger $n$, although it will take longer to train."
   ]
  },
  {
   "cell_type": "code",
   "execution_count": 2,
   "metadata": {},
   "outputs": [],
   "source": [
    "def generate_example(n):\n",
    "    bits = np.random.randint(low=0, high=2, size=(2, n))\n",
    "    xor = np.logical_xor(bits[0], bits[1]).astype(np.long)\n",
    "    return bits.reshape((2*n)), xor"
   ]
  },
  {
   "cell_type": "code",
   "execution_count": 3,
   "metadata": {},
   "outputs": [
    {
     "name": "stdout",
     "output_type": "stream",
     "text": [
      "  String 1: [0 0 1 1 0]\n",
      "  String 2: [0 0 1 0 0]\n",
      "Output XOR: [0 0 0 1 0]\n"
     ]
    }
   ],
   "source": [
    "n = 5\n",
    "bits, xor = generate_example(n)\n",
    "\n",
    "print('  String 1:', bits[:n])\n",
    "print('  String 2:', bits[n:])\n",
    "print('Output XOR:', xor)"
   ]
  },
  {
   "cell_type": "markdown",
   "metadata": {},
   "source": [
    "## Creating the frozen pretrained transformer\n",
    "\n",
    "We simply wrap a pretrained GPT-2 model with linear input and output layers, then freeze the weights of the self-attention and feedforward layers.\n",
    "You can also see what happens using a randomly initialized model instead."
   ]
  },
  {
   "cell_type": "code",
   "execution_count": 4,
   "metadata": {},
   "outputs": [],
   "source": [
    "if torch.cuda.is_available():\n",
    "    device = 'cuda'\n",
    "else:\n",
    "    device = 'cpu'"
   ]
  },
  {
   "cell_type": "code",
   "execution_count": 5,
   "metadata": {},
   "outputs": [
    {
     "name": "stderr",
     "output_type": "stream",
     "text": [
      "Some weights of GPT2Model were not initialized from the model checkpoint at gpt2 and are newly initialized: ['h.0.attn.masked_bias', 'h.1.attn.masked_bias', 'h.2.attn.masked_bias', 'h.3.attn.masked_bias', 'h.4.attn.masked_bias', 'h.5.attn.masked_bias', 'h.6.attn.masked_bias', 'h.7.attn.masked_bias', 'h.8.attn.masked_bias', 'h.9.attn.masked_bias', 'h.10.attn.masked_bias', 'h.11.attn.masked_bias']\n",
      "You should probably TRAIN this model on a down-stream task to be able to use it for predictions and inference.\n"
     ]
    }
   ],
   "source": [
    "gpt2 = GPT2Model.from_pretrained('gpt2')  # loads a pretrained GPT-2 base model\n",
    "in_layer = nn.Embedding(2, 768)           # map bit to GPT-2 embedding dim of 768\n",
    "out_layer = nn.Linear(768, 2)             # predict logits"
   ]
  },
  {
   "cell_type": "code",
   "execution_count": 6,
   "metadata": {},
   "outputs": [],
   "source": [
    "for name, param in gpt2.named_parameters():\n",
    "    # freeze all parameters except the layernorm and positional embeddings\n",
    "    if 'ln' in name or 'wpe' in name:\n",
    "        param.requires_grad = True\n",
    "    else:\n",
    "        param.requires_grad = False"
   ]
  },
  {
   "cell_type": "markdown",
   "metadata": {},
   "source": [
    "## Training loop\n",
    "\n",
    "We train the model with stochastic gradient descent on the Bit XOR task.\n",
    "The model should converge within 5000 samples."
   ]
  },
  {
   "cell_type": "code",
   "execution_count": 7,
   "metadata": {},
   "outputs": [],
   "source": [
    "params = list(gpt2.parameters()) + list(in_layer.parameters()) + list(out_layer.parameters())\n",
    "optimizer = torch.optim.Adam(params)\n",
    "loss_fn = nn.CrossEntropyLoss()"
   ]
  },
  {
   "cell_type": "code",
   "execution_count": 8,
   "metadata": {},
   "outputs": [],
   "source": [
    "for layer in (gpt2, in_layer, out_layer):\n",
    "    layer.to(device=device)\n",
    "    layer.train()"
   ]
  },
  {
   "cell_type": "code",
   "execution_count": 9,
   "metadata": {},
   "outputs": [
    {
     "name": "stdout",
     "output_type": "stream",
     "text": [
      "Samples: 500, Accuracy: 0.6320000129938126\n",
      "Samples: 1000, Accuracy: 0.600000016093254\n",
      "Samples: 1500, Accuracy: 0.6560000130534172\n",
      "Samples: 2000, Accuracy: 0.7320000123977661\n",
      "Samples: 2500, Accuracy: 0.6400000116229058\n",
      "Samples: 3000, Accuracy: 0.6960000142455101\n",
      "Samples: 3500, Accuracy: 0.7640000116825104\n",
      "Samples: 4000, Accuracy: 0.7520000123977661\n",
      "Samples: 4500, Accuracy: 0.7560000121593475\n",
      "Samples: 5000, Accuracy: 0.8280000087618827\n",
      "Samples: 5500, Accuracy: 0.9000000059604645\n",
      "Samples: 6000, Accuracy: 0.9440000027418136\n",
      "Samples: 6500, Accuracy: 0.9520000028610229\n",
      "Final accuracy: 0.9920000004768371\n"
     ]
    }
   ],
   "source": [
    "accuracies = [0]\n",
    "while sum(accuracies[-50:]) / len(accuracies[-50:]) < .99:\n",
    "    x, y = generate_example(n)\n",
    "    x = torch.from_numpy(x).to(device=device, dtype=torch.long)\n",
    "    y = torch.from_numpy(y).to(device=device, dtype=torch.long)\n",
    "    \n",
    "    embeddings = in_layer(x.reshape(1, -1))\n",
    "    hidden_state = gpt2(inputs_embeds=embeddings).last_hidden_state[:,n:]\n",
    "    logits = out_layer(hidden_state)[0]\n",
    "    \n",
    "    loss = loss_fn(logits, y)\n",
    "    accuracies.append((logits.argmax(dim=-1) == y).float().mean().item())\n",
    "    \n",
    "    optimizer.zero_grad()\n",
    "    loss.backward()\n",
    "    optimizer.step()\n",
    "    \n",
    "    if len(accuracies) % 500 == 0:\n",
    "        accuracy = sum(accuracies[-50:]) / len(accuracies[-50:])\n",
    "        print(f'Samples: {len(accuracies)}, Accuracy: {accuracy}')\n",
    "\n",
    "print(f'Final accuracy: {sum(accuracies[-50:]) / len(accuracies[-50:])}')"
   ]
  },
  {
   "cell_type": "markdown",
   "metadata": {},
   "source": [
    "## Visualizing attention map\n",
    "\n",
    "We can visualize the attention map of the first layer: the model learns to attend to the relevant bits for each element in the XOR operation.\n",
    "Note the two consistent diagonal lines for output tokens 5-9 across samples, denoting each position of either string (the pattern is stronger if the model is allowed to train longer or evaluated on more samples)."
   ]
  },
  {
   "cell_type": "code",
   "execution_count": 10,
   "metadata": {},
   "outputs": [],
   "source": [
    "for layer in (gpt2, in_layer, out_layer):\n",
    "    layer.eval()"
   ]
  },
  {
   "cell_type": "code",
   "execution_count": 11,
   "metadata": {},
   "outputs": [
    {
     "name": "stdout",
     "output_type": "stream",
     "text": [
      "  String 1: [0 1 1 0 0]\n",
      "  String 2: [1 1 1 1 1]\n",
      "Prediction: [1 0 0 1 1]\n",
      "Output XOR: [1 0 0 1 1]\n"
     ]
    }
   ],
   "source": [
    "bits, xor = generate_example(n)\n",
    "\n",
    "with torch.no_grad():\n",
    "    x = torch.from_numpy(bits).to(device=device, dtype=torch.long)\n",
    "    \n",
    "    embeddings = in_layer(x)\n",
    "    transformer_outputs = gpt2(\n",
    "        inputs_embeds=embeddings,\n",
    "        return_dict=True,\n",
    "        output_attentions=True,\n",
    "    )\n",
    "    logits = out_layer(transformer_outputs.last_hidden_state[n:])\n",
    "    predictions = logits.argmax(dim=-1).cpu().numpy()\n",
    "\n",
    "print('  String 1:', bits[:n])\n",
    "print('  String 2:', bits[n:])\n",
    "print('Prediction:', predictions)\n",
    "print('Output XOR:', xor)"
   ]
  },
  {
   "cell_type": "code",
   "execution_count": 12,
   "metadata": {},
   "outputs": [
    {
     "data": {
      "text/plain": [
       "<matplotlib.image.AxesImage at 0x7ff2d5daab10>"
      ]
     },
     "execution_count": 12,
     "metadata": {},
     "output_type": "execute_result"
    },
    {
     "data": {
      "image/png": "[encoded data removed]",
      "text/plain": [
       "<Figure size 432x288 with 1 Axes>"
      ]
     },
     "metadata": {
      "needs_background": "light"
     },
     "output_type": "display_data"
    }
   ],
   "source": [
    "attentions = transformer_outputs.attentions[0][0]  # first layer, first in batch\n",
    "mean_attentions = attentions.mean(dim=0)           # take the mean over heads\n",
    "mean_attentions = mean_attentions.cpu().numpy()\n",
    "\n",
    "plt.xlabel('Input Tokens', size=16)\n",
    "plt.xticks(range(10), bits)\n",
    "plt.ylabel('Output Tokens', size=16)\n",
    "plt.yticks(range(10), ['*'] * 5 + list(predictions))\n",
    "\n",
    "plt.imshow(mean_attentions)"
   ]
  },
  {
   "cell_type": "markdown",
   "metadata": {},
   "source": [
    "## Sanity check\n",
    "\n",
    "As a sanity check, we can see that the model could solve this task without needing to finetune the self-attention layers! The XOR was computed using only the connections already present in GPT-2."
   ]
  },
  {
   "cell_type": "code",
   "execution_count": 13,
   "metadata": {},
   "outputs": [
    {
     "name": "stderr",
     "output_type": "stream",
     "text": [
      "Some weights of GPT2Model were not initialized from the model checkpoint at gpt2 and are newly initialized: ['h.0.attn.masked_bias', 'h.1.attn.masked_bias', 'h.2.attn.masked_bias', 'h.3.attn.masked_bias', 'h.4.attn.masked_bias', 'h.5.attn.masked_bias', 'h.6.attn.masked_bias', 'h.7.attn.masked_bias', 'h.8.attn.masked_bias', 'h.9.attn.masked_bias', 'h.10.attn.masked_bias', 'h.11.attn.masked_bias']\n",
      "You should probably TRAIN this model on a down-stream task to be able to use it for predictions and inference.\n"
     ]
    },
    {
     "name": "stdout",
     "output_type": "stream",
     "text": [
      "h.0.attn.c_attn.weight is unchanged\n",
      "h.0.attn.c_attn.bias is unchanged\n",
      "h.0.attn.c_proj.weight is unchanged\n",
      "h.0.attn.c_proj.bias is unchanged\n",
      "h.0.mlp.c_fc.weight is unchanged\n",
      "h.0.mlp.c_fc.bias is unchanged\n",
      "h.0.mlp.c_proj.weight is unchanged\n",
      "h.0.mlp.c_proj.bias is unchanged\n",
      "h.1.attn.c_attn.weight is unchanged\n",
      "h.1.attn.c_attn.bias is unchanged\n",
      "h.1.attn.c_proj.weight is unchanged\n",
      "h.1.attn.c_proj.bias is unchanged\n",
      "h.1.mlp.c_fc.weight is unchanged\n",
      "h.1.mlp.c_fc.bias is unchanged\n",
      "h.1.mlp.c_proj.weight is unchanged\n",
      "h.1.mlp.c_proj.bias is unchanged\n",
      "h.2.attn.c_attn.weight is unchanged\n",
      "h.2.attn.c_attn.bias is unchanged\n",
      "h.2.attn.c_proj.weight is unchanged\n",
      "h.2.attn.c_proj.bias is unchanged\n",
      "h.2.mlp.c_fc.weight is unchanged\n",
      "h.2.mlp.c_fc.bias is unchanged\n",
      "h.2.mlp.c_proj.weight is unchanged\n",
      "h.2.mlp.c_proj.bias is unchanged\n",
      "h.3.attn.c_attn.weight is unchanged\n",
      "h.3.attn.c_attn.bias is unchanged\n",
      "h.3.attn.c_proj.weight is unchanged\n",
      "h.3.attn.c_proj.bias is unchanged\n",
      "h.3.mlp.c_fc.weight is unchanged\n",
      "h.3.mlp.c_fc.bias is unchanged\n",
      "h.3.mlp.c_proj.weight is unchanged\n",
      "h.3.mlp.c_proj.bias is unchanged\n",
      "h.4.attn.c_attn.weight is unchanged\n",
      "h.4.attn.c_attn.bias is unchanged\n",
      "h.4.attn.c_proj.weight is unchanged\n",
      "h.4.attn.c_proj.bias is unchanged\n",
      "h.4.mlp.c_fc.weight is unchanged\n",
      "h.4.mlp.c_fc.bias is unchanged\n",
      "h.4.mlp.c_proj.weight is unchanged\n",
      "h.4.mlp.c_proj.bias is unchanged\n",
      "h.5.attn.c_attn.weight is unchanged\n",
      "h.5.attn.c_attn.bias is unchanged\n",
      "h.5.attn.c_proj.weight is unchanged\n",
      "h.5.attn.c_proj.bias is unchanged\n",
      "h.5.mlp.c_fc.weight is unchanged\n",
      "h.5.mlp.c_fc.bias is unchanged\n",
      "h.5.mlp.c_proj.weight is unchanged\n",
      "h.5.mlp.c_proj.bias is unchanged\n",
      "h.6.attn.c_attn.weight is unchanged\n",
      "h.6.attn.c_attn.bias is unchanged\n",
      "h.6.attn.c_proj.weight is unchanged\n",
      "h.6.attn.c_proj.bias is unchanged\n",
      "h.6.mlp.c_fc.weight is unchanged\n",
      "h.6.mlp.c_fc.bias is unchanged\n",
      "h.6.mlp.c_proj.weight is unchanged\n",
      "h.6.mlp.c_proj.bias is unchanged\n",
      "h.7.attn.c_attn.weight is unchanged\n",
      "h.7.attn.c_attn.bias is unchanged\n",
      "h.7.attn.c_proj.weight is unchanged\n",
      "h.7.attn.c_proj.bias is unchanged\n",
      "h.7.mlp.c_fc.weight is unchanged\n",
      "h.7.mlp.c_fc.bias is unchanged\n",
      "h.7.mlp.c_proj.weight is unchanged\n",
      "h.7.mlp.c_proj.bias is unchanged\n",
      "h.8.attn.c_attn.weight is unchanged\n",
      "h.8.attn.c_attn.bias is unchanged\n",
      "h.8.attn.c_proj.weight is unchanged\n",
      "h.8.attn.c_proj.bias is unchanged\n",
      "h.8.mlp.c_fc.weight is unchanged\n",
      "h.8.mlp.c_fc.bias is unchanged\n",
      "h.8.mlp.c_proj.weight is unchanged\n",
      "h.8.mlp.c_proj.bias is unchanged\n",
      "h.9.attn.c_attn.weight is unchanged\n",
      "h.9.attn.c_attn.bias is unchanged\n",
      "h.9.attn.c_proj.weight is unchanged\n",
      "h.9.attn.c_proj.bias is unchanged\n",
      "h.9.mlp.c_fc.weight is unchanged\n",
      "h.9.mlp.c_fc.bias is unchanged\n",
      "h.9.mlp.c_proj.weight is unchanged\n",
      "h.9.mlp.c_proj.bias is unchanged\n",
      "h.10.attn.c_attn.weight is unchanged\n",
      "h.10.attn.c_attn.bias is unchanged\n",
      "h.10.attn.c_proj.weight is unchanged\n",
      "h.10.attn.c_proj.bias is unchanged\n",
      "h.10.mlp.c_fc.weight is unchanged\n",
      "h.10.mlp.c_fc.bias is unchanged\n",
      "h.10.mlp.c_proj.weight is unchanged\n",
      "h.10.mlp.c_proj.bias is unchanged\n",
      "h.11.attn.c_attn.weight is unchanged\n",
      "h.11.attn.c_attn.bias is unchanged\n",
      "h.11.attn.c_proj.weight is unchanged\n",
      "h.11.attn.c_proj.bias is unchanged\n",
      "h.11.mlp.c_fc.weight is unchanged\n",
      "h.11.mlp.c_fc.bias is unchanged\n",
      "h.11.mlp.c_proj.weight is unchanged\n",
      "h.11.mlp.c_proj.bias is unchanged\n"
     ]
    }
   ],
   "source": [
    "fresh_gpt2 = GPT2Model.from_pretrained('gpt2')\n",
    "\n",
    "gpt2.to(device='cpu')\n",
    "gpt2_state_dict = gpt2.state_dict()\n",
    "for name, param in fresh_gpt2.named_parameters():\n",
    "    if 'attn' in name or 'mlp' in name:\n",
    "        new_param = gpt2_state_dict[name]\n",
    "        if torch.abs(param.data - new_param.data).sum() > 1e-8:\n",
    "            print(f'{name} was modified')\n",
    "        else:\n",
    "            print(f'{name} is unchanged')"
   ]
  }
 ],
 "metadata": {
  "kernelspec": {
   "display_name": "Python 3",
   "language": "python",
   "name": "python3"
  },
  "language_info": {
   "codemirror_mode": {
    "name": "ipython",
    "version": 3
   },
   "file_extension": ".py",
   "mimetype": "text/x-python",
   "name": "python",
   "nbconvert_exporter": "python",
   "pygments_lexer": "ipython3",
   "version": "3.7.7"
  }
 },
 "nbformat": 4,
 "nbformat_minor": 4
}
