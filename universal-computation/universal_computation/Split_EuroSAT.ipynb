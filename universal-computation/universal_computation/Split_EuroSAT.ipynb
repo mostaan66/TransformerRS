{
  "nbformat": 4,
  "nbformat_minor": 0,
  "metadata": {
    "colab": {
      "name": "Split_EuroSAT.ipynb",
      "provenance": []
    },
    "kernelspec": {
      "display_name": "Python 3",
      "name": "python3"
    },
    "language_info": {
      "name": "python"
    }
  },
  "cells": [
    {
      "cell_type": "markdown",
      "metadata": {
        "id": "JxlZE67cGYaG"
      },
      "source": [
        "# This code is to split the EuroSAT dataset to train / test split\n"
      ]
    },
    {
      "cell_type": "code",
      "metadata": {
        "colab": {
          "base_uri": "https://localhost:8080/"
        },
        "id": "0o8Co_x1Gg2P",
        "outputId": "1c73b524-ff37-4a45-abe3-9dbaea8556c2"
      },
      "source": [
        "from google.colab import drive\n",
        "drive.mount('/content/drive', force_remount=True)\n",
        "#############################\n",
        "import sys\n",
        "sys.path.insert(0, '/content/drive/GoogleDrive/MyDrive/GitHub/TransformerRS/RSdataset/')"
      ],
      "execution_count": null,
      "outputs": [
        {
          "name": "stdout",
          "output_type": "stream",
          "text": [
            "Mounted at /content/drive\n"
          ]
        }
      ]
    },
    {
      "cell_type": "code",
      "metadata": {
        "id": "9Y87_q34Glt2"
      },
      "source": [
        "import os\n",
        "import numpy as np\n",
        "import shutil\n",
        "import pandas as pd"
      ],
      "execution_count": null,
      "outputs": []
    },
    {
      "cell_type": "code",
      "metadata": {
        "colab": {
          "base_uri": "https://localhost:8080/"
        },
        "id": "lhACx90AGsrH",
        "outputId": "905e63bf-72df-496d-e506-948b8cd826f6"
      },
      "source": [
        "print(\"########### Train Test Val Script started ###########\")\n",
        "#data_csv = pd.read_csv(\"DataSet_Final.csv\") ##Use if you have classes saved in any .csv file\n",
        "\n",
        "root_dir = '/content/drive/MyDrive/GitHub/RSdataset/data/eurosat-rgb/split/'\n",
        "classes_dir = ['AnnualCrop', 'Forest', 'HerbaceousVegetation', 'Highway', 'Industrial' , 'Pasture', 'PermanentCrop', 'Residential', 'River' , 'SeaLake']\n",
        "processed_dir = '/content/drive/MyDrive/GitHub/RSdataset/data/eurosat-rgb/2750'\n",
        "\n",
        "val_ratio = 0.0\n",
        "test_ratio = 0.20"
      ],
      "execution_count": null,
      "outputs": [
        {
          "name": "stdout",
          "output_type": "stream",
          "text": [
            "########### Train Test Val Script started ###########\n"
          ]
        }
      ]
    },
    {
      "cell_type": "code",
      "metadata": {
        "colab": {
          "background_save": true,
          "base_uri": "https://localhost:8080/"
        },
        "id": "lnBSVSh9GtnF",
        "outputId": "8cd9bcae-d88d-441b-cbc8-e74b4924baf8"
      },
      "source": [
        "for cls in classes_dir:\n",
        "    folder_name = cls\n",
        "    print(\"$$$$$$$ Class Name \" + folder_name + \" $$$$$$$\")\n",
        "    src = processed_dir +\"/\" + folder_name  # Folder to copy images from\n",
        "    allFileNames = os.listdir(src)\n",
        "    np.random.shuffle(allFileNames)\n",
        "    train_FileNames, test_FileNames, val_FileNames = np.split(np.array(allFileNames),\n",
        "                                                          [int(len(allFileNames) * (1 - (val_ratio + test_ratio))),\n",
        "                                                           int(len(allFileNames) * (1 - val_ratio)),\n",
        "                                                           ]) \n",
        "    train_FileNames = [src + '/' + name for name in train_FileNames.tolist()]\n",
        "    val_FileNames = [src + '/' + name for name in val_FileNames.tolist()]\n",
        "    test_FileNames = [src + '/' + name for name in test_FileNames.tolist()]\n",
        "\n",
        "    print('Total images: '+ str(len(allFileNames)))\n",
        "    print('Training: '+ str(len(train_FileNames)))\n",
        "    print('Validation: '+  str(len(val_FileNames)))\n",
        "    print('Testing: '+ str(len(test_FileNames)))\n",
        "  \n",
        "    # # Creating Train / Val / Test folders (One time use)\n",
        "    os.makedirs(root_dir + 'train/' + folder_name)\n",
        "    os.makedirs(root_dir + 'val/' + folder_name)\n",
        "    os.makedirs(root_dir + 'test/' + folder_name)\n",
        "\n",
        "        # Copy-pasting images\n",
        "    for name in train_FileNames:\n",
        "        shutil.copy(name, root_dir + 'train/' + folder_name)\n",
        "\n",
        "    for name in val_FileNames:\n",
        "        shutil.copy(name, root_dir + 'val/' + folder_name)\n",
        "\n",
        "    for name in test_FileNames:\n",
        "        shutil.copy(name, root_dir + 'test/' + folder_name)\n",
        "\n",
        "print(\"########### Train Test Val Script Ended ###########\")"
      ],
      "execution_count": null,
      "outputs": [
        {
          "name": "stdout",
          "output_type": "stream",
          "text": [
            "$$$$$$$ Class Name AnnualCrop $$$$$$$\n",
            "Total images: 3000\n",
            "Training: 2400\n",
            "Validation: 0\n",
            "Testing: 600\n",
            "$$$$$$$ Class Name Forest $$$$$$$\n",
            "Total images: 3000\n",
            "Training: 2400\n",
            "Validation: 0\n",
            "Testing: 600\n",
            "$$$$$$$ Class Name HerbaceousVegetation $$$$$$$\n",
            "Total images: 3000\n",
            "Training: 2400\n",
            "Validation: 0\n",
            "Testing: 600\n",
            "$$$$$$$ Class Name Highway $$$$$$$\n",
            "Total images: 2500\n",
            "Training: 2000\n",
            "Validation: 0\n",
            "Testing: 500\n",
            "$$$$$$$ Class Name Industrial $$$$$$$\n",
            "Total images: 2500\n",
            "Training: 2000\n",
            "Validation: 0\n",
            "Testing: 500\n",
            "$$$$$$$ Class Name Pasture $$$$$$$\n",
            "Total images: 2000\n",
            "Training: 1600\n",
            "Validation: 0\n",
            "Testing: 400\n",
            "$$$$$$$ Class Name PermanentCrop $$$$$$$\n",
            "Total images: 2500\n",
            "Training: 2000\n",
            "Validation: 0\n",
            "Testing: 500\n",
            "$$$$$$$ Class Name Residential $$$$$$$\n",
            "Total images: 3000\n",
            "Training: 2400\n",
            "Validation: 0\n",
            "Testing: 600\n",
            "$$$$$$$ Class Name River $$$$$$$\n",
            "Total images: 2500\n",
            "Training: 2000\n",
            "Validation: 0\n",
            "Testing: 500\n",
            "$$$$$$$ Class Name SeaLake $$$$$$$\n",
            "Total images: 3000\n",
            "Training: 2400\n",
            "Validation: 0\n",
            "Testing: 600\n"
          ]
        }
      ]
    }
  ]
}